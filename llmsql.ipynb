{
 "cells": [
  {
   "cell_type": "code",
   "execution_count": 1,
   "outputs": [],
   "source": [
    "from langchain_community.chat_models import ChatOllama\n",
    "from langchain_community.llms import Ollama\n",
    "# --ollama pull llama2:13b-chat\n",
    "llama2_chat = ChatOllama(model=\"llama2:13b-chat\")\n",
    "llama2_code = ChatOllama(model=\"codellama:7b-instruct\")\n",
    "llm = llama2_chat\n"
   ],
   "metadata": {
    "collapsed": false,
    "ExecuteTime": {
     "end_time": "2024-03-07T23:17:54.048911Z",
     "start_time": "2024-03-07T23:17:52.904273Z"
    }
   },
   "id": "c7f431478edd3d94"
  },
  {
   "cell_type": "code",
   "execution_count": 2,
   "outputs": [
    {
     "name": "stdout",
     "output_type": "stream",
     "text": [
      "\n",
      "CREATE TABLE servicerequest (\n",
      "\trequestid TEXT, \n",
      "\tsubject TEXT, \n",
      "\trequestsummary TEXT, \n",
      "\trequestofficerid TEXT, \n",
      "\tclientname TEXT, \n",
      "\treportedby TEXT, \n",
      "\tcreatedon TEXT, \n",
      "\tclientemail TEXT, \n",
      "\tclientdepartment TEXT, \n",
      "\tclientextensionattribute_4 TEXT, \n",
      "\tservice TEXT, \n",
      "\tstatus TEXT, \n",
      "\tincomingemail TEXT, \n",
      "\townerteam TEXT, \n",
      "\ttargetfulfillment TEXT, \n",
      "\tbreached BOOLEAN, \n",
      "\talmnumber TEXT, \n",
      "\tuserdefineddatetime TEXT, \n",
      "\tfirstescalation TEXT, \n",
      "\tsecondescalation TEXT, \n",
      "\tthirdescalation TEXT, \n",
      "\tlastmodifiedon TEXT, \n",
      "\tresolvedby TEXT, \n",
      "\tresolvedon TEXT, \n",
      "\tclosedby TEXT, \n",
      "\tclosedon TEXT, \n",
      "\tfinancedeptcode TEXT, \n",
      "\tfinanceaccount TEXT, \n",
      "\tfinancefund TEXT, \n",
      "\tfinanceloworg TEXT, \n",
      "\tfinanceproject TEXT, \n",
      "\tfinanceactivity TEXT, \n",
      "\tpurchasetotal TEXT, \n",
      "\tvip BOOLEAN\n",
      ")\n"
     ]
    }
   ],
   "source": [
    "from langchain_community.utilities import SQLDatabase\n",
    "\n",
    "db = SQLDatabase.from_uri(\"postgresql://localhost:5432/Seattle\", sample_rows_in_table_info=0)\n",
    "\n",
    "\n",
    "def get_schema(_):\n",
    "    return db.get_table_info()\n",
    "\n",
    "\n",
    "def run_query(query):\n",
    "    return db.run(query)\n",
    "print(db.get_table_info())"
   ],
   "metadata": {
    "collapsed": false,
    "ExecuteTime": {
     "end_time": "2024-03-07T23:18:00.117287Z",
     "start_time": "2024-03-07T23:17:59.753971Z"
    }
   },
   "id": "64db80d7f3a9441c"
  },
  {
   "cell_type": "code",
   "execution_count": 3,
   "outputs": [],
   "source": [
    "# Prompt\n",
    "from langchain_core.prompts import ChatPromptTemplate\n",
    "\n",
    "\n",
    "# Update the template based on the type of SQL Database like MySQL, Microsoft SQL Server and so on\n",
    "template = \"\"\"Based on the table schema below, write a SQL query that would answer the user's question:\n",
    "{schema}\n",
    "\n",
    "Question: {question}\n",
    "SQL Query:\"\"\"\n",
    "prompt = ChatPromptTemplate.from_messages(\n",
    "    [\n",
    "        (\"system\", \"Given an input question, convert it to a SQL query. No pre-amble.\"),\n",
    "        (\"human\", template),\n",
    "    ]\n",
    ")\n",
    "\n"
   ],
   "metadata": {
    "collapsed": false,
    "ExecuteTime": {
     "end_time": "2024-03-07T23:18:06.959886Z",
     "start_time": "2024-03-07T23:18:06.921420Z"
    }
   },
   "id": "cb9e9faa39b18adc"
  },
  {
   "cell_type": "code",
   "execution_count": 4,
   "outputs": [
    {
     "name": "stdout",
     "output_type": "stream",
     "text": [
      "1\n",
      "\n",
      "SELECT * FROM servicerequest\n",
      "WHERE clientname = 'Jessica Phares' AND breached = TRUE;\n"
     ]
    }
   ],
   "source": [
    "# Chain to query\n",
    "from langchain_core.output_parsers import StrOutputParser\n",
    "from langchain_core.runnables import RunnablePassthrough\n",
    "\n",
    "sql_response = (\n",
    "    RunnablePassthrough.assign(schema=get_schema)\n",
    "    | prompt\n",
    "    | llm.bind(stop=[\"\\nSQLResult:\"])\n",
    "    | StrOutputParser()\n",
    ")\n",
    "print(1)\n",
    "UsersQuestion = {\"question\": \"list client Jessica Phares breached request\"}\n",
    "SQL = sql_response.invoke(UsersQuestion)\n",
    "print(SQL)"
   ],
   "metadata": {
    "collapsed": false,
    "ExecuteTime": {
     "end_time": "2024-03-07T23:18:33.931299Z",
     "start_time": "2024-03-07T23:18:16.441377Z"
    }
   },
   "id": "4ae994e0d237abd7"
  },
  {
   "cell_type": "code",
   "execution_count": 5,
   "outputs": [
    {
     "name": "stdout",
     "output_type": "stream",
     "text": [
      "[('1282326', 'Mobile App Intake', 'Mobile App Intake - Bose Connect', 'x1435', 'Jessica Phares', 'Jessica Phares', '10/11/23 15:24', 'Jessica.Phares@seattle.gov', 'Community Police Commission', None, 'EUCMP - End-user Computing Service', 'Waiting for Client', 'FALSE', 'ITD_ServiceManagement', '10/25/23 15:48', True, None, None, '10/11/23 15:24', '10/18/23 15:48', '10/23/23 15:48', '2/5/24 10:00', None, None, None, None, None, None, None, None, None, None, '0.0', False)]\n",
      " Sure! Here is the key information from your SQL result:\n",
      "\n",
      "* Client name: Jessica Phares\n",
      "* Service request ID: 1282326\n",
      "* Service type: Mobile App Intake\n",
      "* Request status: Waiting for Client\n",
      "* Breached: TRUE\n",
      "* Created date: October 11, 2023 15:24\n",
      "* Last updated date: October 25, 2023 15:48\n",
      "\n",
      "I hope this helps! Let me know if you have any other questions.\n"
     ]
    }
   ],
   "source": [
    "# Connect to your PostgreSQL database\n",
    "# postgresql://localhost:5432/postgres\n",
    "import psycopg2\n",
    "conn = psycopg2.connect(\n",
    "    dbname=\"Seattle\",\n",
    "    user=\"chenjunxu\",\n",
    "    # password=\"your_password\",\n",
    "    host=\"localhost\",\n",
    "    port=\"5432\"\n",
    ")\n",
    "\n",
    "# Create a cursor object\n",
    "cur = conn.cursor()\n",
    "\n",
    "# Execute a SQL query\n",
    "cur.execute(SQL)\n",
    "\n",
    "# Fetch the results\n",
    "rows = cur.fetchall()\n",
    "\n",
    "# Do something with the results\n",
    "SQL_results = [row for row in rows]\n",
    "print(SQL_results)\n",
    "\n",
    "response = llm.invoke(\"Very Concisely give key information: This is my question\" + str(UsersQuestion.values()) \n",
    "                      + \"based on my sql\" + str(SQL) \n",
    "                      + \"SQL result is \" + str(SQL_results))\n",
    "print(response.content)\n",
    "\n",
    "\n",
    "\n",
    "# Close the cursor and connection\n",
    "cur.close()\n",
    "conn.close()"
   ],
   "metadata": {
    "collapsed": false,
    "ExecuteTime": {
     "end_time": "2024-03-07T23:18:57.576376Z",
     "start_time": "2024-03-07T23:18:45.998260Z"
    }
   },
   "id": "b580564bba9b9cd1"
  },
  {
   "cell_type": "code",
   "execution_count": null,
   "outputs": [],
   "source": [],
   "metadata": {
    "collapsed": false
   },
   "id": "1e7a1e3ba4d94f3d"
  }
 ],
 "metadata": {
  "kernelspec": {
   "display_name": "Python 3",
   "language": "python",
   "name": "python3"
  },
  "language_info": {
   "codemirror_mode": {
    "name": "ipython",
    "version": 2
   },
   "file_extension": ".py",
   "mimetype": "text/x-python",
   "name": "python",
   "nbconvert_exporter": "python",
   "pygments_lexer": "ipython2",
   "version": "2.7.6"
  }
 },
 "nbformat": 4,
 "nbformat_minor": 5
}
